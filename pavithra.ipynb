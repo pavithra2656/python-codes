{
 "cells": [
  {
   "cell_type": "code",
   "execution_count": 2,
   "id": "2724b81a-d3e9-4208-9512-bf24f757ec59",
   "metadata": {},
   "outputs": [
    {
     "name": "stdin",
     "output_type": "stream",
     "text": [
      "enter your name: hp\n",
      "enter your age: 16\n"
     ]
    },
    {
     "name": "stdout",
     "output_type": "stream",
     "text": [
      "hp\n",
      "you are not eligible\n"
     ]
    }
   ],
   "source": [
    "name=input(\"enter your name:\")\n",
    "age=int(input(\"enter your age:\"))\n",
    "if age>=18:\n",
    "    print(name)\n",
    "    print(\"you are eleigible to vote\")\n",
    "else:\n",
    "    print(name)\n",
    "    print(\"you are not eligible\")"
   ]
  },
  {
   "cell_type": "code",
   "execution_count": 3,
   "id": "9739b6a1-4561-408d-a762-a3000b81b818",
   "metadata": {},
   "outputs": [
    {
     "name": "stdout",
     "output_type": "stream",
     "text": [
      "b is greater than a\n"
     ]
    }
   ],
   "source": [
    "a=10\n",
    "b=20\n",
    "if a>b:\n",
    "    print(\"a is greater than b\")\n",
    "else:\n",
    "    print(\"b is greater than a\")"
   ]
  },
  {
   "cell_type": "code",
   "execution_count": 6,
   "id": "57d84688-edb2-4f16-9049-0bcc7fce2386",
   "metadata": {},
   "outputs": [
    {
     "name": "stdin",
     "output_type": "stream",
     "text": [
      " 10\n",
      " 20\n",
      " 30\n"
     ]
    },
    {
     "name": "stdout",
     "output_type": "stream",
     "text": [
      "c is larger\n"
     ]
    }
   ],
   "source": [
    "a=int(input())\n",
    "b=int(input())\n",
    "c=int(input())\n",
    "if a>b:\n",
    "    if a>c:\n",
    "        print(\"a is larger\")\n",
    "    else:\n",
    "        print(\"c is larger\")\n",
    "else:\n",
    "    if b>c:\n",
    "         print(\"b is larger\")\n",
    "    else: \n",
    "        print(\"c is larger\")\n",
    "    "
   ]
  },
  {
   "cell_type": "code",
   "execution_count": 11,
   "id": "607d5c53-573d-405c-8932-9ad20eb690c4",
   "metadata": {},
   "outputs": [
    {
     "name": "stdin",
     "output_type": "stream",
     "text": [
      "enter the marks: 22\n"
     ]
    },
    {
     "name": "stdout",
     "output_type": "stream",
     "text": [
      "F\n"
     ]
    }
   ],
   "source": [
    "marks=int(input(\"enter the marks:\"))\n",
    "if marks>=90 and marks<=100:\n",
    "    print(\"A+\")\n",
    "else:\n",
    "    if marks>=80 and marks<90:\n",
    "        print(\"A\")\n",
    "    else:\n",
    "        if marks>=70 and marks<80:\n",
    "            print(\"B+\")\n",
    "        else:\n",
    "            if marks>=60 and marks<70:\n",
    "                print(\"B\")\n",
    "            else:\n",
    "                if marks>=50 and marks<60:\n",
    "                    print(\"C\")\n",
    "                else:\n",
    "                    if marks>=40 and marks<50:\n",
    "                        print(\"D\")\n",
    "                    else:\n",
    "                        if marks>=30 and marks<40:\n",
    "                            print(\"E\")\n",
    "                        else:\n",
    "                            if marks>=0 and marks<30:\n",
    "                                print(\"F\")\n",
    "                            else:\n",
    "                                print(\"invalid marks\")"
   ]
  },
  {
   "cell_type": "code",
   "execution_count": 12,
   "id": "7de03cf4-65e5-47f9-9137-fa8ecee1acd8",
   "metadata": {},
   "outputs": [
    {
     "name": "stdout",
     "output_type": "stream",
     "text": [
      "5\n"
     ]
    }
   ],
   "source": [
    "print(2+3)\n"
   ]
  },
  {
   "cell_type": "code",
   "execution_count": 19,
   "id": "8815c5bf-c3a0-4481-839e-891233bd5f08",
   "metadata": {},
   "outputs": [
    {
     "name": "stdin",
     "output_type": "stream",
     "text": [
      "enter the day no: 9\n"
     ]
    },
    {
     "name": "stdout",
     "output_type": "stream",
     "text": [
      "invalid\n"
     ]
    }
   ],
   "source": [
    "day=int(input(\"enter the day no:\"))\n",
    "match day:\n",
    "    case 1:print(\"sunday\")\n",
    "    case 2:print(\"monday\")\n",
    "    case 3:print(\"tuesday\")\n",
    "    case 4:print(\"wednesday\")\n",
    "    case 5:print(\"thursday\")\n",
    "    case 6:print(\"friday\")\n",
    "    case 7:print(\"saturday\")\n",
    "    case _:print(\"invalid\")    \n",
    " "
   ]
  },
  {
   "cell_type": "code",
   "execution_count": null,
   "id": "d2b7e259-9a13-4681-8ce7-30597d16c5c7",
   "metadata": {},
   "outputs": [],
   "source": [
    "age=int(input(\"enter the age:\"))\n",
    "match age:\n",
    "    case _if age>=0 and age<=12:\n",
    "           print(\"baby girl/boy\")\n",
    "    case _if age>=13 and age<=19:\n",
    "         "
   ]
  }
 ],
 "metadata": {
  "kernelspec": {
   "display_name": "Python 3 (ipykernel)",
   "language": "python",
   "name": "python3"
  },
  "language_info": {
   "codemirror_mode": {
    "name": "ipython",
    "version": 3
   },
   "file_extension": ".py",
   "mimetype": "text/x-python",
   "name": "python",
   "nbconvert_exporter": "python",
   "pygments_lexer": "ipython3",
   "version": "3.12.3"
  }
 },
 "nbformat": 4,
 "nbformat_minor": 5
}
